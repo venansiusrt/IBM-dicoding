{
  "nbformat": 4,
  "nbformat_minor": 0,
  "metadata": {
    "accelerator": "GPU",
    "colab": {
      "name": "IBM_Dicoding.ipynb",
      "provenance": [],
      "collapsed_sections": []
    },
    "kernelspec": {
      "display_name": "Python 3",
      "language": "python",
      "name": "python3"
    },
    "language_info": {
      "codemirror_mode": {
        "name": "ipython",
        "version": 3
      },
      "file_extension": ".py",
      "mimetype": "text/x-python",
      "name": "python",
      "nbconvert_exporter": "python",
      "pygments_lexer": "ipython3",
      "version": "3.8.5"
    }
  },
  "cells": [
    {
      "cell_type": "markdown",
      "metadata": {
        "id": "gbnXpqKbOYM5"
      },
      "source": [
        "> ### **BIODATA**\n",
        ">\n",
        "> - **Full Name** : Venansius Ryan Tjahjono\n",
        ">\n",
        "> - **Email Address** : venansiusrt@gmail.com"
      ]
    },
    {
      "cell_type": "markdown",
      "metadata": {
        "id": "KfKZG02lGQHy"
      },
      "source": [
        "> ### **Importing the libraries**\n",
        ">\n",
        "> In this part, I have imported several useful libraries to support image classification task on paper-rock-scissor dataset. The detail concerning the function of each library are written on the code below."
      ]
    },
    {
      "cell_type": "code",
      "metadata": {
        "id": "f-w9rnQZ1ecm"
      },
      "source": [
        "import tensorflow as tf # employ CNN model\n",
        "import matplotlib.pyplot as plt # visualization\n",
        "import os # read file\n",
        "import zipfile # read compressed file\n",
        "import numpy as np # mathematics calculation\n",
        "import time # measure running time\n",
        "from tqdm import tqdm # add progressbar\n",
        "from keras.preprocessing import image # Set of tools for image augmentation\n",
        "from tensorflow.keras.preprocessing.image import ImageDataGenerator # images augmentation library\n",
        "from tensorflow.keras.callbacks import ModelCheckpoint # add checkpoint to save the model's weight\n",
        "from tensorflow.keras.callbacks import ReduceLROnPlateau # create adaptive learning schemes \n",
        "from tensorflow.keras.callbacks import EarlyStopping # set up an early stopping mechanism\n",
        "from google.colab import files # upload any file to google colab"
      ],
      "execution_count": 1,
      "outputs": []
    },
    {
      "cell_type": "markdown",
      "metadata": {
        "id": "VERHGBZyGXU6"
      },
      "source": [
        "> ### **Preparation**\n",
        "> In this part, I do the preparation to unzip and locate the dataset. AFter that, I set the image size into 128 x 128.\n"
      ]
    },
    {
      "cell_type": "code",
      "metadata": {
        "id": "ofcFZrwXHg8y",
        "outputId": "61927227-7619-4068-b4f2-c5a13c121c44",
        "colab": {
          "base_uri": "https://localhost:8080/",
          "height": 235
        }
      },
      "source": [
        "# Importing the dataset\n",
        "!wget --no-check-certificate \\\n",
        "  https://dicodingacademy.blob.core.windows.net/picodiploma/ml_pemula_academy/rockpaperscissors.zip \\\n",
        "  -O /tmp/rockpaperscissors.zip\n",
        "\n",
        "address_local_zipfile = '/tmp/rockpaperscissors.zip'\n",
        "zip_read = zipfile.ZipFile(address_local_zipfile,'r')\n",
        "zip_read.extractall('/tmp')\n",
        "zip_read.close()"
      ],
      "execution_count": 2,
      "outputs": [
        {
          "output_type": "stream",
          "text": [
            "--2020-10-24 15:53:34--  https://dicodingacademy.blob.core.windows.net/picodiploma/ml_pemula_academy/rockpaperscissors.zip\n",
            "Resolving dicodingacademy.blob.core.windows.net (dicodingacademy.blob.core.windows.net)... 52.239.197.36\n",
            "Connecting to dicodingacademy.blob.core.windows.net (dicodingacademy.blob.core.windows.net)|52.239.197.36|:443... connected.\n",
            "HTTP request sent, awaiting response... 200 OK\n",
            "Length: 322873683 (308M) [application/zip]\n",
            "Saving to: ‘/tmp/rockpaperscissors.zip’\n",
            "\n",
            "/tmp/rockpapersciss 100%[===================>] 307.92M  7.90MB/s    in 60s     \n",
            "\n",
            "2020-10-24 15:54:34 (5.17 MB/s) - ‘/tmp/rockpaperscissors.zip’ saved [322873683/322873683]\n",
            "\n"
          ],
          "name": "stdout"
        }
      ]
    },
    {
      "cell_type": "code",
      "metadata": {
        "id": "u5smHCQLTHfg",
        "outputId": "1e3fb81f-ad4d-44f7-f32d-43bb1cc7bc82",
        "colab": {
          "base_uri": "https://localhost:8080/",
          "height": 35
        }
      },
      "source": [
        "# Locating our dataset\n",
        "dataset_directory = \"/tmp/rockpaperscissors/rps-cv-images/\"\n",
        "os.listdir(dataset_directory)"
      ],
      "execution_count": 4,
      "outputs": [
        {
          "output_type": "execute_result",
          "data": {
            "text/plain": [
              "['rock', 'paper', 'scissors', 'README_rpc-cv-images.txt']"
            ]
          },
          "metadata": {
            "tags": []
          },
          "execution_count": 4
        }
      ]
    },
    {
      "cell_type": "code",
      "metadata": {
        "id": "Jzj_MRVaGejG"
      },
      "source": [
        "# Setting size of image into (image_size, image_size)\n",
        "image_size = 128"
      ],
      "execution_count": 5,
      "outputs": []
    },
    {
      "cell_type": "markdown",
      "metadata": {
        "id": "mFVLu7d7GhEZ"
      },
      "source": [
        "> ### **Set up for images augmentation**"
      ]
    },
    {
      "cell_type": "code",
      "metadata": {
        "id": "DDbg2y8eES9x",
        "outputId": "94455349-47a0-441d-d6e3-14d69e939df9",
        "colab": {
          "base_uri": "https://localhost:8080/",
          "height": 53
        }
      },
      "source": [
        "# Creating image data generator\n",
        "converter = ImageDataGenerator(rescale = 1./255, \n",
        "                               shear_range = 0.125, \n",
        "                               zoom_range = 0.125,\n",
        "                               rotation_range = 90,\n",
        "                               horizontal_flip = True, \n",
        "                               vertical_flip = True,\n",
        "                               validation_split = 0.4)\n",
        "\n",
        "# Augmenting the dataset\n",
        "data_train = converter.flow_from_directory(dataset_directory, \n",
        "                                           target_size = (image_size,image_size), \n",
        "                                           batch_size = 64, \n",
        "                                           class_mode ='categorical', \n",
        "                                           subset = 'training')\n",
        "data_val = converter.flow_from_directory(dataset_directory, \n",
        "                                         target_size = (image_size,image_size), \n",
        "                                         batch_size = 64,\n",
        "                                         class_mode = 'categorical', \n",
        "                                         subset = 'validation')"
      ],
      "execution_count": 6,
      "outputs": [
        {
          "output_type": "stream",
          "text": [
            "Found 1314 images belonging to 3 classes.\n",
            "Found 874 images belonging to 3 classes.\n"
          ],
          "name": "stdout"
        }
      ]
    },
    {
      "cell_type": "markdown",
      "metadata": {
        "id": "5VIm_d9UGoXC"
      },
      "source": [
        "> ### **Design Convolutional Neural Net with its optimizer**"
      ]
    },
    {
      "cell_type": "code",
      "metadata": {
        "id": "hobBOi07F9p5",
        "outputId": "b548b0ff-484d-43a7-a420-1fc7df7d2518",
        "colab": {
          "base_uri": "https://localhost:8080/",
          "height": 629
        }
      },
      "source": [
        "# Designing the layers\n",
        "CNN_model = tf.keras.models.Sequential([\n",
        "    tf.keras.layers.Conv2D(16, (4,4), activation = 'selu', input_shape= (image_size,image_size,3)),\n",
        "    tf.keras.layers.MaxPooling2D(2,2),\n",
        "    tf.keras.layers.Conv2D(32, (3,3), activation=  'relu'),\n",
        "    tf.keras.layers.MaxPooling2D(2,2),\n",
        "    tf.keras.layers.Conv2D(64, (3,3), activation = 'selu'),\n",
        "    tf.keras.layers.MaxPooling2D(2,2),\n",
        "    tf.keras.layers.Conv2D(128, (2,2), activation = 'relu'),\n",
        "    tf.keras.layers.MaxPooling2D(2,2),\n",
        "    tf.keras.layers.Conv2D(256, (2,2), activation = 'selu'),\n",
        "    tf.keras.layers.MaxPooling2D(2,2),\n",
        "    tf.keras.layers.Flatten(),\n",
        "    tf.keras.layers.Dense(512, activation = 'relu'),\n",
        "    tf.keras.layers.Dense(3, activation = 'softmax')\n",
        "])\n",
        "\n",
        "# Defining Optimizer\n",
        "the_optimizer = tf.keras.optimizers.Adam(amsgrad = True)\n",
        "\n",
        "# Compiling the layers and optimizer\n",
        "CNN_model.compile(optimizer = the_optimizer, \n",
        "                  loss = 'categorical_crossentropy', \n",
        "                  metrics = ['accuracy'])\n",
        "CNN_model.summary()"
      ],
      "execution_count": 7,
      "outputs": [
        {
          "output_type": "stream",
          "text": [
            "Model: \"sequential\"\n",
            "_________________________________________________________________\n",
            "Layer (type)                 Output Shape              Param #   \n",
            "=================================================================\n",
            "conv2d (Conv2D)              (None, 125, 125, 16)      784       \n",
            "_________________________________________________________________\n",
            "max_pooling2d (MaxPooling2D) (None, 62, 62, 16)        0         \n",
            "_________________________________________________________________\n",
            "conv2d_1 (Conv2D)            (None, 60, 60, 32)        4640      \n",
            "_________________________________________________________________\n",
            "max_pooling2d_1 (MaxPooling2 (None, 30, 30, 32)        0         \n",
            "_________________________________________________________________\n",
            "conv2d_2 (Conv2D)            (None, 28, 28, 64)        18496     \n",
            "_________________________________________________________________\n",
            "max_pooling2d_2 (MaxPooling2 (None, 14, 14, 64)        0         \n",
            "_________________________________________________________________\n",
            "conv2d_3 (Conv2D)            (None, 13, 13, 128)       32896     \n",
            "_________________________________________________________________\n",
            "max_pooling2d_3 (MaxPooling2 (None, 6, 6, 128)         0         \n",
            "_________________________________________________________________\n",
            "conv2d_4 (Conv2D)            (None, 5, 5, 256)         131328    \n",
            "_________________________________________________________________\n",
            "max_pooling2d_4 (MaxPooling2 (None, 2, 2, 256)         0         \n",
            "_________________________________________________________________\n",
            "flatten (Flatten)            (None, 1024)              0         \n",
            "_________________________________________________________________\n",
            "dense (Dense)                (None, 512)               524800    \n",
            "_________________________________________________________________\n",
            "dense_1 (Dense)              (None, 3)                 1539      \n",
            "=================================================================\n",
            "Total params: 714,483\n",
            "Trainable params: 714,483\n",
            "Non-trainable params: 0\n",
            "_________________________________________________________________\n"
          ],
          "name": "stdout"
        }
      ]
    },
    {
      "cell_type": "markdown",
      "metadata": {
        "id": "Qh4UP_XEG1TB"
      },
      "source": [
        "> ### **Create callbacks that are checkpoint, adaptive learning, and early stopping**"
      ]
    },
    {
      "cell_type": "code",
      "metadata": {
        "id": "XNtOQz_mGEkR"
      },
      "source": [
        "filepath = \"/tmp/rockpaperscissors/improvement_at_epoch_{epoch:02d}_with_acc_of_{accuracy:.2f}.hdf5\"\n",
        "\n",
        "# Creating checkpoint to save the model\n",
        "checkpoint = ModelCheckpoint(filepath,\n",
        "                             save_best_only = True,\n",
        "                             save_weights_only = True,\n",
        "                             monitor = \"accuracy\",\n",
        "                             mode = \"max\",\n",
        "                             verbose = 1)\n",
        "\n",
        "# Setting adaptive learning scheme\n",
        "adaptive_learning = ReduceLROnPlateau(factor = 0.99999, \n",
        "                                      patience = 2, \n",
        "                                      min_lr = 0.00001, \n",
        "                                      verbose = 1)\n",
        "\n",
        "# Setting early stopping mechanism\n",
        "earlystop = EarlyStopping(monitor = \"accuracy\",\n",
        "                          patience = 10,\n",
        "                          verbose = True,\n",
        "                          mode=\"max\")"
      ],
      "execution_count": 8,
      "outputs": []
    },
    {
      "cell_type": "markdown",
      "metadata": {
        "id": "t-htTOFFG_d4"
      },
      "source": [
        "> ### **Training session**"
      ]
    },
    {
      "cell_type": "code",
      "metadata": {
        "id": "_hkfvidxGwmy",
        "outputId": "71edc739-f87e-47c9-8852-2a6069cfeb68",
        "colab": {
          "base_uri": "https://localhost:8080/",
          "height": 1000
        }
      },
      "source": [
        "stopwatch_start = time.time()\n",
        "\n",
        "# Training the neural network\n",
        "trained_model = CNN_model.fit(data_train, \n",
        "                              epochs = 30,\n",
        "                              verbose = True, \n",
        "                              validation_data = data_val,\n",
        "                              callbacks = [checkpoint, adaptive_learning, earlystop])\n",
        "\n",
        "# Calculating training time\n",
        "stopwatch_stop = time.time()\n",
        "minute = int(np.floor((stopwatch_stop-stopwatch_start)/60));\n",
        "sec = int(np.ceil((stopwatch_stop-stopwatch_start)-minute*60));\n",
        "print('\\nTraining time:', minute, 'minutes', sec, 'seconds')"
      ],
      "execution_count": 9,
      "outputs": [
        {
          "output_type": "stream",
          "text": [
            "Epoch 1/30\n",
            "21/21 [==============================] - ETA: 0s - loss: 1.0316 - accuracy: 0.4688\n",
            "Epoch 00001: accuracy improved from -inf to 0.46880, saving model to /tmp/rockpaperscissors/improvement_at_epoch_01_with_acc_of_0.47.hdf5\n",
            "21/21 [==============================] - 12s 568ms/step - loss: 1.0316 - accuracy: 0.4688 - val_loss: 0.7905 - val_accuracy: 0.6190\n",
            "Epoch 2/30\n",
            "21/21 [==============================] - ETA: 0s - loss: 0.6365 - accuracy: 0.7374\n",
            "Epoch 00002: accuracy improved from 0.46880 to 0.73744, saving model to /tmp/rockpaperscissors/improvement_at_epoch_02_with_acc_of_0.74.hdf5\n",
            "21/21 [==============================] - 12s 558ms/step - loss: 0.6365 - accuracy: 0.7374 - val_loss: 0.6512 - val_accuracy: 0.7368\n",
            "Epoch 3/30\n",
            "21/21 [==============================] - ETA: 0s - loss: 0.5382 - accuracy: 0.7869\n",
            "Epoch 00003: accuracy improved from 0.73744 to 0.78691, saving model to /tmp/rockpaperscissors/improvement_at_epoch_03_with_acc_of_0.79.hdf5\n",
            "21/21 [==============================] - 12s 551ms/step - loss: 0.5382 - accuracy: 0.7869 - val_loss: 0.4497 - val_accuracy: 0.8124\n",
            "Epoch 4/30\n",
            "21/21 [==============================] - ETA: 0s - loss: 0.4731 - accuracy: 0.7998\n",
            "Epoch 00004: accuracy improved from 0.78691 to 0.79985, saving model to /tmp/rockpaperscissors/improvement_at_epoch_04_with_acc_of_0.80.hdf5\n",
            "21/21 [==============================] - 12s 549ms/step - loss: 0.4731 - accuracy: 0.7998 - val_loss: 0.4037 - val_accuracy: 0.8421\n",
            "Epoch 5/30\n",
            "21/21 [==============================] - ETA: 0s - loss: 0.3642 - accuracy: 0.8516\n",
            "Epoch 00005: accuracy improved from 0.79985 to 0.85160, saving model to /tmp/rockpaperscissors/improvement_at_epoch_05_with_acc_of_0.85.hdf5\n",
            "21/21 [==============================] - 12s 551ms/step - loss: 0.3642 - accuracy: 0.8516 - val_loss: 0.2955 - val_accuracy: 0.9027\n",
            "Epoch 6/30\n",
            "21/21 [==============================] - ETA: 0s - loss: 0.2865 - accuracy: 0.8988\n",
            "Epoch 00006: accuracy improved from 0.85160 to 0.89878, saving model to /tmp/rockpaperscissors/improvement_at_epoch_06_with_acc_of_0.90.hdf5\n",
            "21/21 [==============================] - 12s 559ms/step - loss: 0.2865 - accuracy: 0.8988 - val_loss: 0.2359 - val_accuracy: 0.9073\n",
            "Epoch 7/30\n",
            "21/21 [==============================] - ETA: 0s - loss: 0.1769 - accuracy: 0.9315\n",
            "Epoch 00007: accuracy improved from 0.89878 to 0.93151, saving model to /tmp/rockpaperscissors/improvement_at_epoch_07_with_acc_of_0.93.hdf5\n",
            "21/21 [==============================] - 12s 550ms/step - loss: 0.1769 - accuracy: 0.9315 - val_loss: 0.2579 - val_accuracy: 0.9073\n",
            "Epoch 8/30\n",
            "21/21 [==============================] - ETA: 0s - loss: 0.1754 - accuracy: 0.9460\n",
            "Epoch 00008: accuracy improved from 0.93151 to 0.94597, saving model to /tmp/rockpaperscissors/improvement_at_epoch_08_with_acc_of_0.95.hdf5\n",
            "21/21 [==============================] - 12s 550ms/step - loss: 0.1754 - accuracy: 0.9460 - val_loss: 0.1502 - val_accuracy: 0.9519\n",
            "Epoch 9/30\n",
            "21/21 [==============================] - ETA: 0s - loss: 0.1496 - accuracy: 0.9490\n",
            "Epoch 00009: accuracy improved from 0.94597 to 0.94901, saving model to /tmp/rockpaperscissors/improvement_at_epoch_09_with_acc_of_0.95.hdf5\n",
            "21/21 [==============================] - 12s 552ms/step - loss: 0.1496 - accuracy: 0.9490 - val_loss: 0.1365 - val_accuracy: 0.9428\n",
            "Epoch 10/30\n",
            "21/21 [==============================] - ETA: 0s - loss: 0.1609 - accuracy: 0.9414\n",
            "Epoch 00010: accuracy did not improve from 0.94901\n",
            "21/21 [==============================] - 11s 547ms/step - loss: 0.1609 - accuracy: 0.9414 - val_loss: 0.1681 - val_accuracy: 0.9439\n",
            "Epoch 11/30\n",
            "21/21 [==============================] - ETA: 0s - loss: 0.1290 - accuracy: 0.9528\n",
            "Epoch 00011: accuracy improved from 0.94901 to 0.95282, saving model to /tmp/rockpaperscissors/improvement_at_epoch_11_with_acc_of_0.95.hdf5\n",
            "\n",
            "Epoch 00011: ReduceLROnPlateau reducing learning rate to 0.0009999900474969765.\n",
            "21/21 [==============================] - 11s 547ms/step - loss: 0.1290 - accuracy: 0.9528 - val_loss: 0.3000 - val_accuracy: 0.8810\n",
            "Epoch 12/30\n",
            "21/21 [==============================] - ETA: 0s - loss: 0.2860 - accuracy: 0.9125\n",
            "Epoch 00012: accuracy did not improve from 0.95282\n",
            "21/21 [==============================] - 11s 542ms/step - loss: 0.2860 - accuracy: 0.9125 - val_loss: 0.2371 - val_accuracy: 0.9073\n",
            "Epoch 13/30\n",
            "21/21 [==============================] - ETA: 0s - loss: 0.1560 - accuracy: 0.9414\n",
            "Epoch 00013: accuracy did not improve from 0.95282\n",
            "21/21 [==============================] - 11s 539ms/step - loss: 0.1560 - accuracy: 0.9414 - val_loss: 0.1257 - val_accuracy: 0.9565\n",
            "Epoch 14/30\n",
            "21/21 [==============================] - ETA: 0s - loss: 0.1091 - accuracy: 0.9543\n",
            "Epoch 00014: accuracy improved from 0.95282 to 0.95434, saving model to /tmp/rockpaperscissors/improvement_at_epoch_14_with_acc_of_0.95.hdf5\n",
            "21/21 [==============================] - 11s 536ms/step - loss: 0.1091 - accuracy: 0.9543 - val_loss: 0.1071 - val_accuracy: 0.9657\n",
            "Epoch 15/30\n",
            "21/21 [==============================] - ETA: 0s - loss: 0.0920 - accuracy: 0.9718\n",
            "Epoch 00015: accuracy improved from 0.95434 to 0.97184, saving model to /tmp/rockpaperscissors/improvement_at_epoch_15_with_acc_of_0.97.hdf5\n",
            "21/21 [==============================] - 11s 543ms/step - loss: 0.0920 - accuracy: 0.9718 - val_loss: 0.1104 - val_accuracy: 0.9634\n",
            "Epoch 16/30\n",
            "21/21 [==============================] - ETA: 0s - loss: 0.0887 - accuracy: 0.9673\n",
            "Epoch 00016: accuracy did not improve from 0.97184\n",
            "\n",
            "Epoch 00016: ReduceLROnPlateau reducing learning rate to 0.0009999800358794163.\n",
            "21/21 [==============================] - 11s 543ms/step - loss: 0.0887 - accuracy: 0.9673 - val_loss: 0.1347 - val_accuracy: 0.9474\n",
            "Epoch 17/30\n",
            "21/21 [==============================] - ETA: 0s - loss: 0.0876 - accuracy: 0.9726\n",
            "Epoch 00017: accuracy improved from 0.97184 to 0.97260, saving model to /tmp/rockpaperscissors/improvement_at_epoch_17_with_acc_of_0.97.hdf5\n",
            "21/21 [==============================] - 12s 553ms/step - loss: 0.0876 - accuracy: 0.9726 - val_loss: 0.0852 - val_accuracy: 0.9691\n",
            "Epoch 18/30\n",
            "21/21 [==============================] - ETA: 0s - loss: 0.0642 - accuracy: 0.9756\n",
            "Epoch 00018: accuracy improved from 0.97260 to 0.97565, saving model to /tmp/rockpaperscissors/improvement_at_epoch_18_with_acc_of_0.98.hdf5\n",
            "21/21 [==============================] - 11s 536ms/step - loss: 0.0642 - accuracy: 0.9756 - val_loss: 0.0986 - val_accuracy: 0.9714\n",
            "Epoch 19/30\n",
            "21/21 [==============================] - ETA: 0s - loss: 0.0769 - accuracy: 0.9764\n",
            "Epoch 00019: accuracy improved from 0.97565 to 0.97641, saving model to /tmp/rockpaperscissors/improvement_at_epoch_19_with_acc_of_0.98.hdf5\n",
            "\n",
            "Epoch 00019: ReduceLROnPlateau reducing learning rate to 0.0009999700242618564.\n",
            "21/21 [==============================] - 11s 539ms/step - loss: 0.0769 - accuracy: 0.9764 - val_loss: 0.1242 - val_accuracy: 0.9600\n",
            "Epoch 20/30\n",
            "21/21 [==============================] - ETA: 0s - loss: 0.0876 - accuracy: 0.9718\n",
            "Epoch 00020: accuracy did not improve from 0.97641\n",
            "21/21 [==============================] - 11s 530ms/step - loss: 0.0876 - accuracy: 0.9718 - val_loss: 0.1097 - val_accuracy: 0.9645\n",
            "Epoch 21/30\n",
            "21/21 [==============================] - ETA: 0s - loss: 0.0663 - accuracy: 0.9764\n",
            "Epoch 00021: accuracy did not improve from 0.97641\n",
            "\n",
            "Epoch 00021: ReduceLROnPlateau reducing learning rate to 0.0009999600126442965.\n",
            "21/21 [==============================] - 11s 536ms/step - loss: 0.0663 - accuracy: 0.9764 - val_loss: 0.1160 - val_accuracy: 0.9622\n",
            "Epoch 22/30\n",
            "21/21 [==============================] - ETA: 0s - loss: 0.1249 - accuracy: 0.9559\n",
            "Epoch 00022: accuracy did not improve from 0.97641\n",
            "21/21 [==============================] - 11s 535ms/step - loss: 0.1249 - accuracy: 0.9559 - val_loss: 0.0932 - val_accuracy: 0.9737\n",
            "Epoch 23/30\n",
            "21/21 [==============================] - ETA: 0s - loss: 0.0631 - accuracy: 0.9795\n",
            "Epoch 00023: accuracy improved from 0.97641 to 0.97945, saving model to /tmp/rockpaperscissors/improvement_at_epoch_23_with_acc_of_0.98.hdf5\n",
            "\n",
            "Epoch 00023: ReduceLROnPlateau reducing learning rate to 0.0009999500010267365.\n",
            "21/21 [==============================] - 11s 536ms/step - loss: 0.0631 - accuracy: 0.9795 - val_loss: 0.1101 - val_accuracy: 0.9691\n",
            "Epoch 24/30\n",
            "21/21 [==============================] - ETA: 0s - loss: 0.0658 - accuracy: 0.9795\n",
            "Epoch 00024: accuracy did not improve from 0.97945\n",
            "21/21 [==============================] - 11s 529ms/step - loss: 0.0658 - accuracy: 0.9795 - val_loss: 0.0810 - val_accuracy: 0.9760\n",
            "Epoch 25/30\n",
            "21/21 [==============================] - ETA: 0s - loss: 0.0636 - accuracy: 0.9764\n",
            "Epoch 00025: accuracy did not improve from 0.97945\n",
            "21/21 [==============================] - 11s 528ms/step - loss: 0.0636 - accuracy: 0.9764 - val_loss: 0.0598 - val_accuracy: 0.9771\n",
            "Epoch 26/30\n",
            "21/21 [==============================] - ETA: 0s - loss: 0.0462 - accuracy: 0.9840\n",
            "Epoch 00026: accuracy improved from 0.97945 to 0.98402, saving model to /tmp/rockpaperscissors/improvement_at_epoch_26_with_acc_of_0.98.hdf5\n",
            "21/21 [==============================] - 11s 539ms/step - loss: 0.0462 - accuracy: 0.9840 - val_loss: 0.0969 - val_accuracy: 0.9714\n",
            "Epoch 27/30\n",
            "21/21 [==============================] - ETA: 0s - loss: 0.0625 - accuracy: 0.9795\n",
            "Epoch 00027: accuracy did not improve from 0.98402\n",
            "\n",
            "Epoch 00027: ReduceLROnPlateau reducing learning rate to 0.0009999399894091766.\n",
            "21/21 [==============================] - 11s 534ms/step - loss: 0.0625 - accuracy: 0.9795 - val_loss: 0.1175 - val_accuracy: 0.9622\n",
            "Epoch 28/30\n",
            "21/21 [==============================] - ETA: 0s - loss: 0.0685 - accuracy: 0.9795\n",
            "Epoch 00028: accuracy did not improve from 0.98402\n",
            "21/21 [==============================] - 11s 533ms/step - loss: 0.0685 - accuracy: 0.9795 - val_loss: 0.1196 - val_accuracy: 0.9668\n",
            "Epoch 29/30\n",
            "21/21 [==============================] - ETA: 0s - loss: 0.0987 - accuracy: 0.9680\n",
            "Epoch 00029: accuracy did not improve from 0.98402\n",
            "\n",
            "Epoch 00029: ReduceLROnPlateau reducing learning rate to 0.0009999299777916167.\n",
            "21/21 [==============================] - 11s 539ms/step - loss: 0.0987 - accuracy: 0.9680 - val_loss: 0.1126 - val_accuracy: 0.9588\n",
            "Epoch 30/30\n",
            "21/21 [==============================] - ETA: 0s - loss: 0.0446 - accuracy: 0.9840\n",
            "Epoch 00030: accuracy did not improve from 0.98402\n",
            "21/21 [==============================] - 11s 535ms/step - loss: 0.0446 - accuracy: 0.9840 - val_loss: 0.0727 - val_accuracy: 0.9737\n",
            "\n",
            "Training time: 5 minutes 57 seconds\n"
          ],
          "name": "stdout"
        }
      ]
    },
    {
      "cell_type": "markdown",
      "metadata": {
        "id": "wk6fdgpNHCwc"
      },
      "source": [
        "> ### **Training visualization and its report**"
      ]
    },
    {
      "cell_type": "code",
      "metadata": {
        "id": "P95B7NoIQqn3",
        "outputId": "3a8202fa-afb6-458b-c462-7e6d1765a40d",
        "colab": {
          "base_uri": "https://localhost:8080/",
          "height": 483
        }
      },
      "source": [
        "# Visualizing the training result\n",
        "\n",
        "def training_visualizer(fig, num, sizefont, string, model):\n",
        "    ax = fig.add_subplot(num)\n",
        "    ax.grid(True)\n",
        "    plt.plot(model.history[string],'r') \n",
        "    plt.plot(model.history['val_' + string], 'b')\n",
        "    plt.xlabel(\"Epochs\", fontsize = sizefont)\n",
        "    plt.ylabel(string, fontsize = sizefont)\n",
        "    plt.legend([string, 'val_' + string], fontsize = sizefont)\n",
        "    ax.tick_params(axis=\"x\", labelsize = sizefont)\n",
        "    ax.tick_params(axis=\"y\", labelsize = sizefont)\n",
        "\n",
        "fig = plt.figure(figsize=(15,5))\n",
        "fs = 15\n",
        "training_visualizer(fig, 121, fs, \"accuracy\", trained_model)\n",
        "training_visualizer(fig, 122, fs, \"loss\", trained_model)\n",
        "\n",
        "print('---------------------------------------------------')\n",
        "print('|                 TRAINING REPORT                 |')\n",
        "print('---------------------------------------------------')\n",
        "print('| Training accuracy in the last epoch\\t:', np.round(trained_model.history['accuracy'][-1]*100, 2), \"% |\")\n",
        "print('| Validation accuracy in the last epoch\\t:', np.round(trained_model.history['val_accuracy'][-1]*100, 2), \"% |\")\n",
        "print('---------------------------------------------------')\n",
        "print('| Training loss in the last epoch\\t:', np.round(trained_model.history['loss'][-1], 5), '|')\n",
        "print('| Validation loss in the last epoch\\t:', np.round(trained_model.history['val_loss'][-1], 5), '|')\n",
        "print('---------------------------------------------------')"
      ],
      "execution_count": 10,
      "outputs": [
        {
          "output_type": "stream",
          "text": [
            "---------------------------------------------------\n",
            "|                 TRAINING REPORT                 |\n",
            "---------------------------------------------------\n",
            "| Training accuracy in the last epoch\t: 98.4 % |\n",
            "| Validation accuracy in the last epoch\t: 97.37 % |\n",
            "---------------------------------------------------\n",
            "| Training loss in the last epoch\t: 0.04455 |\n",
            "| Validation loss in the last epoch\t: 0.07272 |\n",
            "---------------------------------------------------\n"
          ],
          "name": "stdout"
        },
        {
          "output_type": "display_data",
          "data": {
            "image/png": "[encoded data removed]",
            "text/plain": [
              "<Figure size 1080x360 with 2 Axes>"
            ]
          },
          "metadata": {
            "tags": [],
            "needs_background": "light"
          }
        }
      ]
    },
    {
      "cell_type": "markdown",
      "metadata": {
        "id": "EFlz6pQBbMRE"
      },
      "source": [
        "> ### **Hands on! Prediction time**"
      ]
    },
    {
      "cell_type": "code",
      "metadata": {
        "id": "53loIZ5TGEk1",
        "outputId": "8a303212-552b-44e4-8a7d-f596c0a29245",
        "colab": {
          "resources": {
            "http://localhost:8080/nbextensions/google.colab/files.js": {
              "data": "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",
              "ok": true,
              "headers": [
                [
                  "content-type",
                  "application/javascript"
                ]
              ],
              "status": 200,
              "status_text": ""
            }
          },
          "base_uri": "https://localhost:8080/",
          "height": 287
        }
      },
      "source": [
        "uploaded_image = files.upload()\n",
        "\n",
        "for file_name in uploaded_image.keys():\n",
        "    IMG_FILE = image.load_img(file_name, target_size = (image_size,image_size))\n",
        "    \n",
        "    fig = plt.figure(figsize = (3,3))\n",
        "    x = image.img_to_array(IMG_FILE)\n",
        "    x = np.expand_dims(x, axis = 0)\n",
        "\n",
        "    images = np.vstack([x])/255\n",
        "    classes = CNN_model.predict(images)\n",
        "\n",
        "    print(file_name)\n",
        "    if np.argmax(classes[0]) == 0:\n",
        "        label = \"PAPER\"\n",
        "    elif np.argmax(classes[0]) == 1:\n",
        "        label = \"ROCK\"\n",
        "    else:\n",
        "        label = \"SCISSOR\"\n",
        "\n",
        "    plt.imshow(IMG_FILE)\n",
        "    plt.xticks([])\n",
        "    plt.yticks([])\n",
        "    plt.xlabel(label, fontsize = 15)"
      ],
      "execution_count": 12,
      "outputs": [
        {
          "output_type": "display_data",
          "data": {
            "text/html": [
              "\n",
              "     <input type=\"file\" id=\"files-d052e995-522b-4704-9d81-3a1cd884c760\" name=\"files[]\" multiple disabled\n",
              "        style=\"border:none\" />\n",
              "     <output id=\"result-d052e995-522b-4704-9d81-3a1cd884c760\">\n",
              "      Upload widget is only available when the cell has been executed in the\n",
              "      current browser session. Please rerun this cell to enable.\n",
              "      </output>\n",
              "      <script src=\"/nbextensions/google.colab/files.js\"></script> "
            ],
            "text/plain": [
              "<IPython.core.display.HTML object>"
            ]
          },
          "metadata": {
            "tags": []
          }
        },
        {
          "output_type": "stream",
          "text": [
            "Saving bn7yju6XvU87slzH.png to bn7yju6XvU87slzH.png\n",
            "bn7yju6XvU87slzH.png\n"
          ],
          "name": "stdout"
        },
        {
          "output_type": "display_data",
          "data": {
            "image/png": "[encoded data removed]",
            "text/plain": [
              "<Figure size 216x216 with 1 Axes>"
            ]
          },
          "metadata": {
            "tags": []
          }
        }
      ]
    },
    {
      "cell_type": "code",
      "metadata": {
        "id": "aUBiVRioz8Tk"
      },
      "source": [
        ""
      ],
      "execution_count": null,
      "outputs": []
    }
  ]
}